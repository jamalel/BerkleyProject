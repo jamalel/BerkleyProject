{
 "cells": [
  {
   "cell_type": "markdown",
   "metadata": {},
   "source": [
    "### Will a Customer Accept the Coupon?\n",
    "\n",
    "**Context**\n",
    "\n",
    "Imagine driving through town and a coupon is delivered to your cell phone for a restaraunt near where you are driving. Would you accept that coupon and take a short detour to the restaraunt? Would you accept the coupon but use it on a sunbsequent trip? Would you ignore the coupon entirely? What if the coupon was for a bar instead of a restaraunt? What about a coffee house? Would you accept a bar coupon with a minor passenger in the car? What about if it was just you and your partner in the car? Would weather impact the rate of acceptance? What about the time of day?\n",
    "\n",
    "Obviously, proximity to the business is a factor on whether the coupon is delivered to the driver or not, but what are the factors that determine whether a driver accepts the coupon once it is delivered to them? How would you determine whether a driver is likely to accept a coupon?\n",
    "\n",
    "**Overview**\n",
    "\n",
    "The goal of this project is to use what you know about visualizations and probability distributions to distinguish between customers who accepted a driving coupon versus those that did not.\n",
    "\n",
    "**Data**\n",
    "\n",
    "This data comes to us from the UCI Machine Learning repository and was collected via a survey on Amazon Mechanical Turk. The survey describes different driving scenarios including the destination, current time, weather, passenger, etc., and then ask the person whether he will accept the coupon if he is the driver. Answers that the user will drive there ‘right away’ or ‘later before the coupon expires’ are labeled as ‘Y = 1’ and answers ‘no, I do not want the coupon’ are labeled as ‘Y = 0’.  There are five different types of coupons -- less expensive restaurants (under \\\\$20), coffee houses, carry out & take away, bar, and more expensive restaurants (\\\\$20 - \\\\$50). "
   ]
  },
  {
   "cell_type": "markdown",
   "metadata": {},
   "source": [
    "**Deliverables**\n",
    "\n",
    "Your final product should be a brief report that highlights the differences between customers who did and did not accept the coupons.  To explore the data you will utilize your knowledge of plotting, statistical summaries, and visualization using Python. You will publish your findings in a public facing github repository as your first portfolio piece. \n",
    "\n",
    "\n",
    "\n"
   ]
  },
  {
   "cell_type": "markdown",
   "metadata": {},
   "source": [
    "### Data Description\n",
    "Keep in mind that these values mentioned below are average values.\n",
    "\n",
    "The attributes of this data set include:\n",
    "1. User attributes\n",
    "    -  Gender: male, female\n",
    "    -  Age: below 21, 21 to 25, 26 to 30, etc.\n",
    "    -  Marital Status: single, married partner, unmarried partner, or widowed\n",
    "    -  Number of children: 0, 1, or more than 1\n",
    "    -  Education: high school, bachelors degree, associates degree, or graduate degree\n",
    "    -  Occupation: architecture & engineering, business & financial, etc.\n",
    "    -  Annual income: less than \\\\$12500, \\\\$12500 - \\\\$24999, \\\\$25000 - \\\\$37499, etc.\n",
    "    -  Number of times that he/she goes to a bar: 0, less than 1, 1 to 3, 4 to 8 or greater than 8\n",
    "    -  Number of times that he/she buys takeaway food: 0, less than 1, 1 to 3, 4 to 8 or greater\n",
    "    than 8\n",
    "    -  Number of times that he/she goes to a coffee house: 0, less than 1, 1 to 3, 4 to 8 or\n",
    "    greater than 8\n",
    "    -  Number of times that he/she eats at a restaurant with average expense less than \\\\$20 per\n",
    "    person: 0, less than 1, 1 to 3, 4 to 8 or greater than 8\n",
    "    -  Number of times that he/she goes to a bar: 0, less than 1, 1 to 3, 4 to 8 or greater than 8\n",
    "    \n",
    "\n",
    "2. Contextual attributes\n",
    "    - Driving destination: home, work, or no urgent destination\n",
    "    - Location of user, coupon and destination: we provide a map to show the geographical\n",
    "    location of the user, destination, and the venue, and we mark the distance between each\n",
    "    two places with time of driving. The user can see whether the venue is in the same\n",
    "    direction as the destination.\n",
    "    - Weather: sunny, rainy, or snowy\n",
    "    - Temperature: 30F, 55F, or 80F\n",
    "    - Time: 10AM, 2PM, or 6PM\n",
    "    - Passenger: alone, partner, kid(s), or friend(s)\n",
    "\n",
    "\n",
    "3. Coupon attributes\n",
    "    - time before it expires: 2 hours or one day"
   ]
  },
  {
   "cell_type": "code",
   "execution_count": 5,
   "metadata": {},
   "outputs": [],
   "source": [
    "import matplotlib.pyplot as plt\n",
    "import seaborn as sns\n",
    "import pandas as pd\n",
    "import numpy as np"
   ]
  },
  {
   "cell_type": "markdown",
   "metadata": {},
   "source": [
    "### Problems\n",
    "\n",
    "Use the prompts below to get started with your data analysis.  \n",
    "\n",
    "1. Read in the `coupons.csv` file.\n",
    "\n",
    "\n"
   ]
  },
  {
   "cell_type": "code",
   "execution_count": 7,
   "metadata": {},
   "outputs": [],
   "source": [
    "data = pd.read_csv('data/coupons.csv')"
   ]
  },
  {
   "cell_type": "code",
   "execution_count": 8,
   "metadata": {},
   "outputs": [
    {
     "data": {
      "text/html": [
       "<div>\n",
       "<style scoped>\n",
       "    .dataframe tbody tr th:only-of-type {\n",
       "        vertical-align: middle;\n",
       "    }\n",
       "\n",
       "    .dataframe tbody tr th {\n",
       "        vertical-align: top;\n",
       "    }\n",
       "\n",
       "    .dataframe thead th {\n",
       "        text-align: right;\n",
       "    }\n",
       "</style>\n",
       "<table border=\"1\" class=\"dataframe\">\n",
       "  <thead>\n",
       "    <tr style=\"text-align: right;\">\n",
       "      <th></th>\n",
       "      <th>destination</th>\n",
       "      <th>passanger</th>\n",
       "      <th>weather</th>\n",
       "      <th>temperature</th>\n",
       "      <th>time</th>\n",
       "      <th>coupon</th>\n",
       "      <th>expiration</th>\n",
       "      <th>gender</th>\n",
       "      <th>age</th>\n",
       "      <th>maritalStatus</th>\n",
       "      <th>...</th>\n",
       "      <th>CoffeeHouse</th>\n",
       "      <th>CarryAway</th>\n",
       "      <th>RestaurantLessThan20</th>\n",
       "      <th>Restaurant20To50</th>\n",
       "      <th>toCoupon_GEQ5min</th>\n",
       "      <th>toCoupon_GEQ15min</th>\n",
       "      <th>toCoupon_GEQ25min</th>\n",
       "      <th>direction_same</th>\n",
       "      <th>direction_opp</th>\n",
       "      <th>Y</th>\n",
       "    </tr>\n",
       "  </thead>\n",
       "  <tbody>\n",
       "    <tr>\n",
       "      <th>0</th>\n",
       "      <td>No Urgent Place</td>\n",
       "      <td>Alone</td>\n",
       "      <td>Sunny</td>\n",
       "      <td>55</td>\n",
       "      <td>2PM</td>\n",
       "      <td>Restaurant(&lt;20)</td>\n",
       "      <td>1d</td>\n",
       "      <td>Female</td>\n",
       "      <td>21</td>\n",
       "      <td>Unmarried partner</td>\n",
       "      <td>...</td>\n",
       "      <td>never</td>\n",
       "      <td>NaN</td>\n",
       "      <td>4~8</td>\n",
       "      <td>1~3</td>\n",
       "      <td>1</td>\n",
       "      <td>0</td>\n",
       "      <td>0</td>\n",
       "      <td>0</td>\n",
       "      <td>1</td>\n",
       "      <td>1</td>\n",
       "    </tr>\n",
       "    <tr>\n",
       "      <th>1</th>\n",
       "      <td>No Urgent Place</td>\n",
       "      <td>Friend(s)</td>\n",
       "      <td>Sunny</td>\n",
       "      <td>80</td>\n",
       "      <td>10AM</td>\n",
       "      <td>Coffee House</td>\n",
       "      <td>2h</td>\n",
       "      <td>Female</td>\n",
       "      <td>21</td>\n",
       "      <td>Unmarried partner</td>\n",
       "      <td>...</td>\n",
       "      <td>never</td>\n",
       "      <td>NaN</td>\n",
       "      <td>4~8</td>\n",
       "      <td>1~3</td>\n",
       "      <td>1</td>\n",
       "      <td>0</td>\n",
       "      <td>0</td>\n",
       "      <td>0</td>\n",
       "      <td>1</td>\n",
       "      <td>0</td>\n",
       "    </tr>\n",
       "    <tr>\n",
       "      <th>2</th>\n",
       "      <td>No Urgent Place</td>\n",
       "      <td>Friend(s)</td>\n",
       "      <td>Sunny</td>\n",
       "      <td>80</td>\n",
       "      <td>10AM</td>\n",
       "      <td>Carry out &amp; Take away</td>\n",
       "      <td>2h</td>\n",
       "      <td>Female</td>\n",
       "      <td>21</td>\n",
       "      <td>Unmarried partner</td>\n",
       "      <td>...</td>\n",
       "      <td>never</td>\n",
       "      <td>NaN</td>\n",
       "      <td>4~8</td>\n",
       "      <td>1~3</td>\n",
       "      <td>1</td>\n",
       "      <td>1</td>\n",
       "      <td>0</td>\n",
       "      <td>0</td>\n",
       "      <td>1</td>\n",
       "      <td>1</td>\n",
       "    </tr>\n",
       "    <tr>\n",
       "      <th>3</th>\n",
       "      <td>No Urgent Place</td>\n",
       "      <td>Friend(s)</td>\n",
       "      <td>Sunny</td>\n",
       "      <td>80</td>\n",
       "      <td>2PM</td>\n",
       "      <td>Coffee House</td>\n",
       "      <td>2h</td>\n",
       "      <td>Female</td>\n",
       "      <td>21</td>\n",
       "      <td>Unmarried partner</td>\n",
       "      <td>...</td>\n",
       "      <td>never</td>\n",
       "      <td>NaN</td>\n",
       "      <td>4~8</td>\n",
       "      <td>1~3</td>\n",
       "      <td>1</td>\n",
       "      <td>1</td>\n",
       "      <td>0</td>\n",
       "      <td>0</td>\n",
       "      <td>1</td>\n",
       "      <td>0</td>\n",
       "    </tr>\n",
       "    <tr>\n",
       "      <th>4</th>\n",
       "      <td>No Urgent Place</td>\n",
       "      <td>Friend(s)</td>\n",
       "      <td>Sunny</td>\n",
       "      <td>80</td>\n",
       "      <td>2PM</td>\n",
       "      <td>Coffee House</td>\n",
       "      <td>1d</td>\n",
       "      <td>Female</td>\n",
       "      <td>21</td>\n",
       "      <td>Unmarried partner</td>\n",
       "      <td>...</td>\n",
       "      <td>never</td>\n",
       "      <td>NaN</td>\n",
       "      <td>4~8</td>\n",
       "      <td>1~3</td>\n",
       "      <td>1</td>\n",
       "      <td>1</td>\n",
       "      <td>0</td>\n",
       "      <td>0</td>\n",
       "      <td>1</td>\n",
       "      <td>0</td>\n",
       "    </tr>\n",
       "  </tbody>\n",
       "</table>\n",
       "<p>5 rows × 26 columns</p>\n",
       "</div>"
      ],
      "text/plain": [
       "       destination  passanger weather  temperature  time  \\\n",
       "0  No Urgent Place      Alone   Sunny           55   2PM   \n",
       "1  No Urgent Place  Friend(s)   Sunny           80  10AM   \n",
       "2  No Urgent Place  Friend(s)   Sunny           80  10AM   \n",
       "3  No Urgent Place  Friend(s)   Sunny           80   2PM   \n",
       "4  No Urgent Place  Friend(s)   Sunny           80   2PM   \n",
       "\n",
       "                  coupon expiration  gender age      maritalStatus  ...  \\\n",
       "0        Restaurant(<20)         1d  Female  21  Unmarried partner  ...   \n",
       "1           Coffee House         2h  Female  21  Unmarried partner  ...   \n",
       "2  Carry out & Take away         2h  Female  21  Unmarried partner  ...   \n",
       "3           Coffee House         2h  Female  21  Unmarried partner  ...   \n",
       "4           Coffee House         1d  Female  21  Unmarried partner  ...   \n",
       "\n",
       "   CoffeeHouse CarryAway RestaurantLessThan20 Restaurant20To50  \\\n",
       "0        never       NaN                  4~8              1~3   \n",
       "1        never       NaN                  4~8              1~3   \n",
       "2        never       NaN                  4~8              1~3   \n",
       "3        never       NaN                  4~8              1~3   \n",
       "4        never       NaN                  4~8              1~3   \n",
       "\n",
       "  toCoupon_GEQ5min toCoupon_GEQ15min toCoupon_GEQ25min direction_same  \\\n",
       "0                1                 0                 0              0   \n",
       "1                1                 0                 0              0   \n",
       "2                1                 1                 0              0   \n",
       "3                1                 1                 0              0   \n",
       "4                1                 1                 0              0   \n",
       "\n",
       "  direction_opp  Y  \n",
       "0             1  1  \n",
       "1             1  0  \n",
       "2             1  1  \n",
       "3             1  0  \n",
       "4             1  0  \n",
       "\n",
       "[5 rows x 26 columns]"
      ]
     },
     "execution_count": 8,
     "metadata": {},
     "output_type": "execute_result"
    }
   ],
   "source": [
    "data.head()"
   ]
  },
  {
   "cell_type": "markdown",
   "metadata": {},
   "source": [
    "2. Investigate the dataset for missing or problematic data."
   ]
  },
  {
   "cell_type": "code",
   "execution_count": 10,
   "metadata": {},
   "outputs": [
    {
     "name": "stdout",
     "output_type": "stream",
     "text": [
      "<class 'pandas.core.frame.DataFrame'>\n",
      "RangeIndex: 12684 entries, 0 to 12683\n",
      "Data columns (total 26 columns):\n",
      " #   Column                Non-Null Count  Dtype \n",
      "---  ------                --------------  ----- \n",
      " 0   destination           12684 non-null  object\n",
      " 1   passanger             12684 non-null  object\n",
      " 2   weather               12684 non-null  object\n",
      " 3   temperature           12684 non-null  int64 \n",
      " 4   time                  12684 non-null  object\n",
      " 5   coupon                12684 non-null  object\n",
      " 6   expiration            12684 non-null  object\n",
      " 7   gender                12684 non-null  object\n",
      " 8   age                   12684 non-null  object\n",
      " 9   maritalStatus         12684 non-null  object\n",
      " 10  has_children          12684 non-null  int64 \n",
      " 11  education             12684 non-null  object\n",
      " 12  occupation            12684 non-null  object\n",
      " 13  income                12684 non-null  object\n",
      " 14  car                   108 non-null    object\n",
      " 15  Bar                   12577 non-null  object\n",
      " 16  CoffeeHouse           12467 non-null  object\n",
      " 17  CarryAway             12533 non-null  object\n",
      " 18  RestaurantLessThan20  12554 non-null  object\n",
      " 19  Restaurant20To50      12495 non-null  object\n",
      " 20  toCoupon_GEQ5min      12684 non-null  int64 \n",
      " 21  toCoupon_GEQ15min     12684 non-null  int64 \n",
      " 22  toCoupon_GEQ25min     12684 non-null  int64 \n",
      " 23  direction_same        12684 non-null  int64 \n",
      " 24  direction_opp         12684 non-null  int64 \n",
      " 25  Y                     12684 non-null  int64 \n",
      "dtypes: int64(8), object(18)\n",
      "memory usage: 2.5+ MB\n"
     ]
    }
   ],
   "source": [
    "data.info()"
   ]
  },
  {
   "cell_type": "code",
   "execution_count": 11,
   "metadata": {},
   "outputs": [
    {
     "data": {
      "text/plain": [
       "car                     12576\n",
       "CoffeeHouse               217\n",
       "Restaurant20To50          189\n",
       "CarryAway                 151\n",
       "RestaurantLessThan20      130\n",
       "Bar                       107\n",
       "destination                 0\n",
       "passanger                   0\n",
       "direction_opp               0\n",
       "direction_same              0\n",
       "toCoupon_GEQ25min           0\n",
       "toCoupon_GEQ15min           0\n",
       "toCoupon_GEQ5min            0\n",
       "income                      0\n",
       "occupation                  0\n",
       "education                   0\n",
       "has_children                0\n",
       "maritalStatus               0\n",
       "age                         0\n",
       "gender                      0\n",
       "expiration                  0\n",
       "coupon                      0\n",
       "time                        0\n",
       "temperature                 0\n",
       "weather                     0\n",
       "Y                           0\n",
       "dtype: int64"
      ]
     },
     "execution_count": 11,
     "metadata": {},
     "output_type": "execute_result"
    }
   ],
   "source": [
    "data.isnull().sum().sort_values(ascending=False)"
   ]
  },
  {
   "cell_type": "markdown",
   "metadata": {},
   "source": [
    "## Missing Data:\n",
    "The fields that had missing the values were the following:\n",
    "\n",
    "- car                                       12576\n",
    "- CoffeeHouse                       217\n",
    "- Restaurant20To50              189\n",
    "- CarryAway                           151\n",
    "- RestaurantLessThan20      130\n",
    "- Bar                                        107\n",
    "\n",
    "To better understand what to do with the rows with missing data, I needed to better understand what those columns represented, so I looked at the value distribution across any of those columns."
   ]
  },
  {
   "cell_type": "code",
   "execution_count": 13,
   "metadata": {},
   "outputs": [
    {
     "name": "stdout",
     "output_type": "stream",
     "text": [
      "Column is: destination\n",
      "\n",
      "No Urgent Place    6283\n",
      "Home               3237\n",
      "Work               3164\n",
      "Name: destination, dtype: int64\n",
      "This column has this many null rows: 0\n",
      ".........................\n",
      ".........................\n",
      "Column is: passanger\n",
      "\n",
      "Alone        7305\n",
      "Friend(s)    3298\n",
      "Partner      1075\n",
      "Kid(s)       1006\n",
      "Name: passanger, dtype: int64\n",
      "This column has this many null rows: 0\n",
      ".........................\n",
      ".........................\n",
      "Column is: weather\n",
      "\n",
      "Sunny    10069\n",
      "Snowy     1405\n",
      "Rainy     1210\n",
      "Name: weather, dtype: int64\n",
      "This column has this many null rows: 0\n",
      ".........................\n",
      ".........................\n",
      "Column is: temperature\n",
      "\n",
      "80    6528\n",
      "55    3840\n",
      "30    2316\n",
      "Name: temperature, dtype: int64\n",
      "This column has this many null rows: 0\n",
      ".........................\n",
      ".........................\n",
      "Column is: time\n",
      "\n",
      "6PM     3230\n",
      "7AM     3164\n",
      "10AM    2275\n",
      "2PM     2009\n",
      "10PM    2006\n",
      "Name: time, dtype: int64\n",
      "This column has this many null rows: 0\n",
      ".........................\n",
      ".........................\n",
      "Column is: coupon\n",
      "\n",
      "Coffee House             3996\n",
      "Restaurant(<20)          2786\n",
      "Carry out & Take away    2393\n",
      "Bar                      2017\n",
      "Restaurant(20-50)        1492\n",
      "Name: coupon, dtype: int64\n",
      "This column has this many null rows: 0\n",
      ".........................\n",
      ".........................\n",
      "Column is: expiration\n",
      "\n",
      "1d    7091\n",
      "2h    5593\n",
      "Name: expiration, dtype: int64\n",
      "This column has this many null rows: 0\n",
      ".........................\n",
      ".........................\n",
      "Column is: gender\n",
      "\n",
      "Female    6511\n",
      "Male      6173\n",
      "Name: gender, dtype: int64\n",
      "This column has this many null rows: 0\n",
      ".........................\n",
      ".........................\n",
      "Column is: age\n",
      "\n",
      "21         2653\n",
      "26         2559\n",
      "31         2039\n",
      "50plus     1788\n",
      "36         1319\n",
      "41         1093\n",
      "46          686\n",
      "below21     547\n",
      "Name: age, dtype: int64\n",
      "This column has this many null rows: 0\n",
      ".........................\n",
      ".........................\n",
      "Column is: maritalStatus\n",
      "\n",
      "Married partner      5100\n",
      "Single               4752\n",
      "Unmarried partner    2186\n",
      "Divorced              516\n",
      "Widowed               130\n",
      "Name: maritalStatus, dtype: int64\n",
      "This column has this many null rows: 0\n",
      ".........................\n",
      ".........................\n",
      "Column is: has_children\n",
      "\n",
      "0    7431\n",
      "1    5253\n",
      "Name: has_children, dtype: int64\n",
      "This column has this many null rows: 0\n",
      ".........................\n",
      ".........................\n",
      "Column is: education\n",
      "\n",
      "Some college - no degree                  4351\n",
      "Bachelors degree                          4335\n",
      "Graduate degree (Masters or Doctorate)    1852\n",
      "Associates degree                         1153\n",
      "High School Graduate                       905\n",
      "Some High School                            88\n",
      "Name: education, dtype: int64\n",
      "This column has this many null rows: 0\n",
      ".........................\n",
      ".........................\n",
      "Column is: occupation\n",
      "\n",
      "Unemployed                                   1870\n",
      "Student                                      1584\n",
      "Computer & Mathematical                      1408\n",
      "Sales & Related                              1093\n",
      "Education&Training&Library                    943\n",
      "Management                                    838\n",
      "Office & Administrative Support               639\n",
      "Arts Design Entertainment Sports & Media      629\n",
      "Business & Financial                          544\n",
      "Retired                                       495\n",
      "Food Preparation & Serving Related            298\n",
      "Healthcare Practitioners & Technical          244\n",
      "Healthcare Support                            242\n",
      "Community & Social Services                   241\n",
      "Legal                                         219\n",
      "Transportation & Material Moving              218\n",
      "Architecture & Engineering                    175\n",
      "Personal Care & Service                       175\n",
      "Protective Service                            175\n",
      "Life Physical Social Science                  170\n",
      "Construction & Extraction                     154\n",
      "Installation Maintenance & Repair             133\n",
      "Production Occupations                        110\n",
      "Building & Grounds Cleaning & Maintenance      44\n",
      "Farming Fishing & Forestry                     43\n",
      "Name: occupation, dtype: int64\n",
      "This column has this many null rows: 0\n",
      ".........................\n",
      ".........................\n",
      "Column is: income\n",
      "\n",
      "$25000 - $37499     2013\n",
      "$12500 - $24999     1831\n",
      "$37500 - $49999     1805\n",
      "$100000 or More     1736\n",
      "$50000 - $62499     1659\n",
      "Less than $12500    1042\n",
      "$87500 - $99999      895\n",
      "$75000 - $87499      857\n",
      "$62500 - $74999      846\n",
      "Name: income, dtype: int64\n",
      "This column has this many null rows: 0\n",
      ".........................\n",
      ".........................\n",
      "Column is: car\n",
      "\n",
      "Scooter and motorcycle                      22\n",
      "Mazda5                                      22\n",
      "do not drive                                22\n",
      "crossover                                   21\n",
      "Car that is too old to install Onstar :D    21\n",
      "Name: car, dtype: int64\n",
      "This column has this many null rows: 12576\n",
      ".........................\n",
      ".........................\n",
      "Column is: Bar\n",
      "\n",
      "never    5197\n",
      "less1    3482\n",
      "1~3      2473\n",
      "4~8      1076\n",
      "gt8       349\n",
      "Name: Bar, dtype: int64\n",
      "This column has this many null rows: 107\n",
      ".........................\n",
      ".........................\n",
      "Column is: CoffeeHouse\n",
      "\n",
      "less1    3385\n",
      "1~3      3225\n",
      "never    2962\n",
      "4~8      1784\n",
      "gt8      1111\n",
      "Name: CoffeeHouse, dtype: int64\n",
      "This column has this many null rows: 217\n",
      ".........................\n",
      ".........................\n",
      "Column is: CarryAway\n",
      "\n",
      "1~3      4672\n",
      "4~8      4258\n",
      "less1    1856\n",
      "gt8      1594\n",
      "never     153\n",
      "Name: CarryAway, dtype: int64\n",
      "This column has this many null rows: 151\n",
      ".........................\n",
      ".........................\n",
      "Column is: RestaurantLessThan20\n",
      "\n",
      "1~3      5376\n",
      "4~8      3580\n",
      "less1    2093\n",
      "gt8      1285\n",
      "never     220\n",
      "Name: RestaurantLessThan20, dtype: int64\n",
      "This column has this many null rows: 130\n",
      ".........................\n",
      ".........................\n",
      "Column is: Restaurant20To50\n",
      "\n",
      "less1    6077\n",
      "1~3      3290\n",
      "never    2136\n",
      "4~8       728\n",
      "gt8       264\n",
      "Name: Restaurant20To50, dtype: int64\n",
      "This column has this many null rows: 189\n",
      ".........................\n",
      ".........................\n",
      "Column is: toCoupon_GEQ5min\n",
      "\n",
      "1    12684\n",
      "Name: toCoupon_GEQ5min, dtype: int64\n",
      "This column has this many null rows: 0\n",
      ".........................\n",
      ".........................\n",
      "Column is: toCoupon_GEQ15min\n",
      "\n",
      "1    7122\n",
      "0    5562\n",
      "Name: toCoupon_GEQ15min, dtype: int64\n",
      "This column has this many null rows: 0\n",
      ".........................\n",
      ".........................\n",
      "Column is: toCoupon_GEQ25min\n",
      "\n",
      "0    11173\n",
      "1     1511\n",
      "Name: toCoupon_GEQ25min, dtype: int64\n",
      "This column has this many null rows: 0\n",
      ".........................\n",
      ".........................\n",
      "Column is: direction_same\n",
      "\n",
      "0    9960\n",
      "1    2724\n",
      "Name: direction_same, dtype: int64\n",
      "This column has this many null rows: 0\n",
      ".........................\n",
      ".........................\n",
      "Column is: direction_opp\n",
      "\n",
      "1    9960\n",
      "0    2724\n",
      "Name: direction_opp, dtype: int64\n",
      "This column has this many null rows: 0\n",
      ".........................\n",
      ".........................\n",
      "Column is: Y\n",
      "\n",
      "1    7210\n",
      "0    5474\n",
      "Name: Y, dtype: int64\n",
      "This column has this many null rows: 0\n",
      ".........................\n",
      ".........................\n"
     ]
    }
   ],
   "source": [
    "for column in data.columns.to_list():\n",
    "  print(f\"Column is: {column}\\n\")\n",
    "  print(data[column].value_counts())\n",
    "  print(f\"This column has this many null rows: {data[column].isnull().sum()}\")\n",
    "  print(\".........................\")\n",
    "  print(\".........................\")\n"
   ]
  },
  {
   "cell_type": "markdown",
   "metadata": {},
   "source": [
    "3. Decide what to do about your missing data -- drop, replace, other..."
   ]
  },
  {
   "cell_type": "markdown",
   "metadata": {},
   "source": [
    "## Data Cleaning:\n",
    "For cars: the values were the following: \n",
    "- Scooter and motorcycle                     \n",
    "- Mazda5                                      \n",
    "- do not drive                                \n",
    "- crossover\n",
    "- Car that is too old to install Onstar :D\n",
    "\n",
    "99% of the rows were missing that column. The data that was included was not usable, so I decided to eliminate that column from the data set instead of eliminating the rows. If all the data was present, I probably would’ve had to categorize the cars instead of using the raw values present in the data set.\n"
   ]
  },
  {
   "cell_type": "code",
   "execution_count": 16,
   "metadata": {},
   "outputs": [],
   "source": [
    "data = data.drop(\"car\", axis=1)\n"
   ]
  },
  {
   "cell_type": "markdown",
   "metadata": {},
   "source": [
    "## Data Cleaning\n",
    "**CoffeeHouse**, **CarryAway**, **Bar**, **Restaurant20To50** and **RestaurantLessThan20**, they all indicate the number of times those establishments are frequented (I’ll refer to those columns as the **“establishment”** columns). \n",
    "The **coupon** field indicates the type of establishment the coupon applies to. \n",
    "\n",
    "There's two ways to think about this:\n",
    "1. It’s okay to have a null **“establishment”** column as long as the **coupon** type was not the same. This approach assumes that the rest of the **\"establishment\"** columns are independent of each other.\n",
    "2. If we wanted to analyze any correlation between establishment columns, then we can't have any null values to draw  conclusions on that correlation\n"
   ]
  },
  {
   "cell_type": "code",
   "execution_count": 19,
   "metadata": {},
   "outputs": [
    {
     "name": "stdout",
     "output_type": "stream",
     "text": [
      "There are 164 rows with blank establishment type for the same coupon type\n"
     ]
    }
   ],
   "source": [
    "query = \"(CoffeeHouse.isnull() & coupon == 'Coffee House')\"\n",
    "query = f\"{query} | (CarryAway.isnull() & coupon == 'Carry out & Take away')\"\n",
    "query = f\"{query} | (Bar.isnull() & coupon == 'Bar')\"\n",
    "query = f\"{query} | (Restaurant20To50.isnull() & coupon == 'Restaurant(20-50)')\"\n",
    "query = f\"{query} | (RestaurantLessThan20.isnull() & coupon == 'Restaurant(<20)')\"\n",
    "\n",
    "df_need_to_purge = data.query(query)\n",
    "missing_establishment_for_coupon = df_need_to_purge.shape[0]\n",
    "if ( missing_establishment_for_coupon == 0):\n",
    "    print(\"There are no rows with blank establishment type respective to its coupon type\")\n",
    "else:\n",
    "    print(f\"There are {missing_establishment_for_coupon} rows with blank establishment type for the same coupon type\")"
   ]
  },
  {
   "cell_type": "markdown",
   "metadata": {},
   "source": [
    "## Data Cleaning 2\n",
    "\n",
    "Since we found that there are rows with a blank establishment type that correspond to the coupon type, and more importantly since we cannot confirm that establishment types are independent, we decided to purge all rows with null data. "
   ]
  },
  {
   "cell_type": "code",
   "execution_count": 28,
   "metadata": {},
   "outputs": [],
   "source": [
    "data = data.dropna()"
   ]
  },
  {
   "cell_type": "markdown",
   "metadata": {},
   "source": [
    "4. What proportion of the total observations chose to accept the coupon? \n",
    "\n"
   ]
  },
  {
   "cell_type": "code",
   "execution_count": 31,
   "metadata": {},
   "outputs": [
    {
     "name": "stdout",
     "output_type": "stream",
     "text": [
      "0.57\n"
     ]
    }
   ],
   "source": [
    "total_observations = data.shape[0]\n",
    "# 'data['Y'].value_counts()[1]' counts the number of times the 'Y' columns was set to 1 (i.e. accepted)\n",
    "accepted_coupon = data['Y'].value_counts()[1]\n",
    "\n",
    "ans_to_q4 = accepted_coupon/total_observations\n",
    "print(round(ans_to_q4,2))"
   ]
  },
  {
   "cell_type": "code",
   "execution_count": 170,
   "metadata": {},
   "outputs": [
    {
     "data": {
      "text/plain": [
       "<AxesSubplot:xlabel='Y', ylabel='Count'>"
      ]
     },
     "execution_count": 170,
     "metadata": {},
     "output_type": "execute_result"
    },
    {
     "data": {
      "image/png": "[encoded data removed]",
      "text/plain": [
       "<Figure size 432x288 with 1 Axes>"
      ]
     },
     "metadata": {
      "needs_background": "light"
     },
     "output_type": "display_data"
    }
   ],
   "source": [
    "sns.histplot(data, x=\"Y\",  discrete=True)\n"
   ]
  },
  {
   "cell_type": "markdown",
   "metadata": {},
   "source": [
    "**Answer: 57% of total observations chose to accept the coupons**"
   ]
  },
  {
   "cell_type": "markdown",
   "metadata": {},
   "source": [
    "5. Use a bar plot to visualize the `coupon` column."
   ]
  },
  {
   "cell_type": "code",
   "execution_count": 168,
   "metadata": {},
   "outputs": [
    {
     "data": {
      "image/png": "[encoded data removed]",
      "text/plain": [
       "<Figure size 432x288 with 1 Axes>"
      ]
     },
     "metadata": {
      "needs_background": "light"
     },
     "output_type": "display_data"
    }
   ],
   "source": [
    "ax = sns.barplot(data=data, x=data.coupon.value_counts().index, y=data.coupon.value_counts())\n",
    "plt.xticks(rotation=45)\n",
    "for i, v in enumerate(data.coupon.value_counts()):\n",
    "   ax.text(i, v + 0.2, str(v), ha='center')\n",
    "plt.show()\n",
    "\n"
   ]
  },
  {
   "cell_type": "markdown",
   "metadata": {},
   "source": [
    "6. Use a histogram to visualize the temperature column."
   ]
  },
  {
   "cell_type": "code",
   "execution_count": 190,
   "metadata": {},
   "outputs": [
    {
     "data": {
      "image/png": "[encoded data removed]",
      "text/plain": [
       "<Figure size 432x288 with 1 Axes>"
      ]
     },
     "metadata": {
      "needs_background": "light"
     },
     "output_type": "display_data"
    }
   ],
   "source": [
    "ax = sns.histplot(data=data, bins=3, x='temperature', discrete=True)\n",
    "\n"
   ]
  },
  {
   "cell_type": "code",
   "execution_count": null,
   "metadata": {},
   "outputs": [],
   "source": []
  },
  {
   "cell_type": "code",
   "execution_count": null,
   "metadata": {},
   "outputs": [],
   "source": []
  },
  {
   "cell_type": "code",
   "execution_count": null,
   "metadata": {},
   "outputs": [],
   "source": []
  },
  {
   "cell_type": "code",
   "execution_count": null,
   "metadata": {},
   "outputs": [],
   "source": []
  },
  {
   "cell_type": "markdown",
   "metadata": {},
   "source": [
    "**Investigating the Bar Coupons**\n",
    "\n",
    "Now, we will lead you through an exploration of just the bar related coupons.  \n",
    "\n",
    "1. Create a new `DataFrame` that contains just the bar coupons.\n"
   ]
  },
  {
   "cell_type": "code",
   "execution_count": 45,
   "metadata": {},
   "outputs": [],
   "source": [
    "df_cpn = data.query(\"coupon == 'Bar'\")"
   ]
  },
  {
   "cell_type": "markdown",
   "metadata": {},
   "source": [
    "2. What proportion of bar coupons were accepted?\n"
   ]
  },
  {
   "cell_type": "code",
   "execution_count": 48,
   "metadata": {},
   "outputs": [
    {
     "name": "stdout",
     "output_type": "stream",
     "text": [
      "Total Bar coupons: 1913\n",
      "Total accepted coupons: 788\n",
      "Proportion who accepted the coupon: 0.41\n"
     ]
    }
   ],
   "source": [
    "total_bar_coupons = df_cpn.shape[0]\n",
    "accepted = df_cpn['Y'].value_counts()[1]\n",
    "print(f'Total Bar coupons: {total_bar_coupons}')\n",
    "print(f'Total accepted coupons: {accepted}')\n",
    "print(f'Proportion who accepted the coupon: {round(accepted/total_bar_coupons,2)}')"
   ]
  },
  {
   "cell_type": "markdown",
   "metadata": {},
   "source": [
    "**ANSWER: 41% of Bar Coupons were accepted**"
   ]
  },
  {
   "cell_type": "markdown",
   "metadata": {},
   "source": [
    "3. Compare the acceptance rate between those who went to a bar 3 or fewer times a month to those who went more.\n"
   ]
  },
  {
   "cell_type": "code",
   "execution_count": 52,
   "metadata": {},
   "outputs": [
    {
     "name": "stdout",
     "output_type": "stream",
     "text": [
      "Total who had Bar coupons and and went to the bar 3 or fewer time is: 1720\n",
      "Out of those, there are 641 who accepted the coupon\n",
      "\n",
      "**The acceptance ratio of those who went to a bar 3 or fewer times per month is: 37.0%\n",
      "\n",
      "Total who had Bar coupons and and went to the bar more than 3 times is: 193\n",
      "Out of those, there are 147 who accepted the coupon\n",
      "\n",
      "**The acceptance ratio of those who went to a bar more than 3 times per month is: 76.0%\n"
     ]
    }
   ],
   "source": [
    "three_or_fewer = ['never', 'less1', '1~3']\n",
    "\n",
    "total_3_or_fewer =df_cpn.query(\"Bar in @three_or_fewer\")['Y'].count()\n",
    "accepted_3_or_fewer = df_cpn.query(\"Bar in @three_or_fewer\")['Y'].value_counts()[1]\n",
    "print(f'Total who had Bar coupons and and went to the bar 3 or fewer time is: {total_3_or_fewer}')\n",
    "print(f'Out of those, there are {accepted_3_or_fewer} who accepted the coupon\\n')\n",
    "      \n",
    "accepted_ratio_3_or_fewer = accepted_3_or_fewer / total_3_or_fewer\n",
    "print(f'**The acceptance ratio of those who went to a bar 3 or fewer times per month is: {100*round(accepted_ratio_3_or_fewer,2)}%\\n')\n",
    "\n",
    "total_more_than_3 =df_cpn.query(\"Bar not in @three_or_fewer\")['Y'].count()\n",
    "accepted_more_than_3 = df_cpn.query(\"Bar not in @three_or_fewer\")['Y'].value_counts()[1]\n",
    "\n",
    "print(f'Total who had Bar coupons and and went to the bar more than 3 times is: {total_more_than_3}')\n",
    "print(f'Out of those, there are {accepted_more_than_3} who accepted the coupon\\n')\n",
    "\n",
    "accepted_ratio_more_than_3 = accepted_more_than_3 / total_more_than_3\n",
    "print(f'**The acceptance ratio of those who went to a bar more than 3 times per month is: {100*round(accepted_ratio_more_than_3,2)}%')\n"
   ]
  },
  {
   "cell_type": "markdown",
   "metadata": {},
   "source": [
    "\n",
    "- **The acceptance ratio of those who went to a bar 3 or fewer times per month is:37%**\n",
    "- **The acceptance ratio of those who went to a bar more than 3 times per month is: 76%**"
   ]
  },
  {
   "cell_type": "markdown",
   "metadata": {},
   "source": [
    "4. Compare the acceptance rate between drivers who go to a bar more than once a month and are over the age of 25 to the all others.  Is there a difference?\n"
   ]
  },
  {
   "cell_type": "code",
   "execution_count": 56,
   "metadata": {},
   "outputs": [
    {
     "name": "stdout",
     "output_type": "stream",
     "text": [
      "The acceptance ratio of those who went to a bar more than once AND are over the age of 25: 69.0%\n",
      "The acceptance ratio of those who went to a bar less than once OR are NOT over the age of 25: 34.0%\n"
     ]
    }
   ],
   "source": [
    "less_than_1_per_month = ['never', 'less1']\n",
    "age_gt_25 = ['26','31', '50plus', '36', '41', '46']     \n",
    "\n",
    "criteria_1 = \"Bar not in @less_than_1_per_month & age in @age_gt_25\"\n",
    "df_more_than_1_per_month_age_gt25 = df_cpn.query(criteria_1)\n",
    "total_criteria_1 = df_more_than_1_per_month_age_gt25['Y'].count()\n",
    "total_criteria_1_accepted = df_more_than_1_per_month_age_gt25['Y'].value_counts()[1]\n",
    "ratio_criteria_1 = total_criteria_1_accepted / total_criteria_1\n",
    "\n",
    "criteria_2 = \"Bar in @less_than_1_per_month | age not in @age_gt_25\"\n",
    "df_less_than_1_per_month_OR_age_lt25 = df_cpn.query(criteria_2)\n",
    "total_criteria_2 = df_less_than_1_per_month_OR_age_lt25['Y'].count()\n",
    "total_criteria_2_accepted = df_less_than_1_per_month_OR_age_lt25['Y'].value_counts()[1]\n",
    "ratio_criteria_2 =  total_criteria_2_accepted / total_criteria_2\n",
    "\n",
    "print(f\"The acceptance ratio of those who went to a bar more than once AND are over the age of 25: {100*round(ratio_criteria_1,2)}%\")\n",
    "print(f\"The acceptance ratio of those who went to a bar less than once OR are NOT over the age of 25: {100*round(ratio_criteria_2,2)}%\")"
   ]
  },
  {
   "cell_type": "markdown",
   "metadata": {},
   "source": [
    "- **The acceptance ratio of those who went to a bar more than once AND are over the age of 25: 69%**\n",
    "- **The acceptance ratio of those who went to a bar less than once OR are NOT over the age of 25: 34%**"
   ]
  },
  {
   "cell_type": "markdown",
   "metadata": {},
   "source": [
    "5. Use the same process to compare the acceptance rate between drivers who go to bars more than once a month and had passengers that were not a kid and had occupations other than farming, fishing, or forestry. \n"
   ]
  },
  {
   "cell_type": "code",
   "execution_count": 60,
   "metadata": {},
   "outputs": [
    {
     "name": "stdout",
     "output_type": "stream",
     "text": [
      "The drivers who go to bars more than once a month and had passengers that were not a kid and had occupations other than farming, fishing, or forestry accepted the coupon at a rate of 71.0%\n",
      "\n",
      "All other drivers accepted the coupon at a rate of 30.0%\n"
     ]
    }
   ],
   "source": [
    "excluded_occupation = ['Farming Fishing & Forestry']\n",
    "excluded_passengers = ['Kid(s)']\n",
    "df_criteria = df_cpn.query(\"Bar not in @less_than_1_per_month & passanger not in @excluded_passengers & occupation not in @excluded_occupation\")\n",
    "\n",
    "total_criteria = df_criteria['Y'].count()\n",
    "total_criteria_accepted = df_criteria['Y'].value_counts()[1]\n",
    "ratio_explicit_criteria = total_criteria_accepted / total_criteria\n",
    "criteria_msg = \"The drivers who go to bars more than once a month and had passengers that were not a kid and had occupations other than farming, fishing, or forestry\"\n",
    "print(f'{criteria_msg} accepted the coupon at a rate of {100*round(ratio_explicit_criteria, 2)}%\\n')\n",
    "\n",
    "df_criteria_2 = df_cpn.query(\"Bar in @less_than_1_per_month | passanger in @excluded_passengers | occupation in @excluded_occupation\")\n",
    "\n",
    "total_criteria_2 = df_criteria_2['Y'].count()\n",
    "total_criteria_accepted_2 = df_criteria_2['Y'].value_counts()[1]\n",
    "ratio_explicit_criteria_2 = total_criteria_accepted_2 / total_criteria_2\n",
    "print(f'All other drivers accepted the coupon at a rate of {100*round(ratio_explicit_criteria_2, 2)}%')\n"
   ]
  },
  {
   "cell_type": "markdown",
   "metadata": {},
   "source": [
    "6. Compare the acceptance rates between those drivers who:\n",
    "\n",
    "- go to bars more than once a month, had passengers that were not a kid, and were not widowed *OR*\n",
    "- go to bars more than once a month and are under the age of 30 *OR*\n",
    "- go to cheap restaurants more than 4 times a month and income is less than 50K. \n",
    "\n"
   ]
  },
  {
   "cell_type": "code",
   "execution_count": 63,
   "metadata": {},
   "outputs": [
    {
     "name": "stdout",
     "output_type": "stream",
     "text": [
      "Drivers who:\n",
      "\n",
      "* go to bars more than once a month, had passengers that were not a kid, and were not widowed accept coupons at a rate of 71.0%\n",
      "* go to bars more than once a month and are under the age of 30 accept coupons at a rate of 72.0%\n",
      "* go to cheap restaurants more than 4 times a month and income is less than 50K accept coupons at a rate of 37.0%\n"
     ]
    }
   ],
   "source": [
    "age_lt_30 = ['21', '26', 'below21']\n",
    "bar_lt_4 = ['never', 'less1', '1~3']\n",
    "income_lt_50k = ['$25000 - $37499', '$12500 - $24999', '$37500 - $49999', 'Less than $12500']\n",
    " \n",
    "cheap_restaurants_gt_4 = ['4~8', 'gt8']\n",
    "\n",
    "\n",
    "criteria_1 = \"Bar not in @less_than_1_per_month & passanger not in @excluded_passengers & maritalStatus != 'Widowed'\"\n",
    "criteria_2 = \"Bar not in @less_than_1_per_month & age  in @age_lt_30\"\n",
    "criteria_3 = \"Bar in @bar_lt_4 & RestaurantLessThan20 in @cheap_restaurants_gt_4 & income in @income_lt_50k\"\n",
    "\n",
    "total_criteria_1 = df_cpn.query(criteria_1)['Y'].count()\n",
    "total_criteria_1_accepted = df_cpn.query(criteria_1)['Y'].value_counts()[1]\n",
    "ratio_criteria_1 = total_criteria_1_accepted / total_criteria_1\n",
    "\n",
    "total_criteria_2 = df_cpn.query(criteria_2)['Y'].count()\n",
    "total_criteria_2_accepted = df_cpn.query(criteria_2)['Y'].value_counts()[1]\n",
    "ratio_criteria_2 = total_criteria_2_accepted / total_criteria_2\n",
    "\n",
    "total_criteria_3 = df_cpn.query(criteria_3)['Y'].count()\n",
    "total_criteria_3_accepted = df_cpn.query(criteria_3)['Y'].value_counts()[1]\n",
    "ratio_criteria_3 = total_criteria_3_accepted / total_criteria_3\n",
    "\n",
    "criteria_1_msg = \"go to bars more than once a month, had passengers that were not a kid, and were not widowed\"\n",
    "criteria_2_msg = \"go to bars more than once a month and are under the age of 30\"\n",
    "criteria_3_msg = \"go to cheap restaurants more than 4 times a month and income is less than 50K\"\n",
    "\n",
    "print(\"Drivers who:\\n\")\n",
    "print(f\"* {criteria_1_msg} accept coupons at a rate of {100*round(ratio_criteria_1,2)}%\")\n",
    "print(f\"* {criteria_2_msg} accept coupons at a rate of {100*round(ratio_criteria_2,2)}%\")\n",
    "print(f\"* {criteria_3_msg} accept coupons at a rate of {100*round(ratio_criteria_3,2)}%\")\n"
   ]
  },
  {
   "cell_type": "markdown",
   "metadata": {},
   "source": [
    "7.  Based on these observations, what do you hypothesize about drivers who accepted the bar coupons?"
   ]
  },
  {
   "cell_type": "markdown",
   "metadata": {},
   "source": [
    "In summary, there seems to be a correlation between factors like visit frequency, age, social status, occupation and the acceptance rate. Some of those factors are independent influencers in a positive way, some are independent in a negative way.\n",
    "In other cases, a combination of factors is required to determine the probablity of acceptance. For example:\n",
    "\n",
    "### Independent factors\n",
    "- **Frequency of visit:** the more a driver visits a bar, the more likely they are to accept the coupon\n",
    "- **Age and Occupation:** Younger drivers (less than 25) and occupation (farming, fishing, or forestry) are independently less likely to accept bar coupons\n",
    "- **Passenger:** Drivers whith a child passenger are less likely to accept a coupon\n",
    "\n",
    "### Combined factors\n",
    "- **Frequency, passengers, and status**: Drivers who visit bars more than once a month, had passengers that were not a kid, and were not widowed are more likely to accept coupons\n",
    "- **Economics**: Drivers that frequent cheap restaurants with an income below 50K/year are less likely to accept a bar Coupon"
   ]
  },
  {
   "cell_type": "markdown",
   "metadata": {},
   "source": [
    "### Independent Investigation\n",
    "\n",
    "Using the bar coupon example as motivation, you are to explore one of the other coupon groups and try to determine the characteristics of passengers who accept the coupons.  "
   ]
  },
  {
   "cell_type": "markdown",
   "metadata": {},
   "source": [
    "## Establishment Selection\n",
    "\n",
    "I'm analyzing the acceptance factors for **Coffee Houses** "
   ]
  },
  {
   "cell_type": "code",
   "execution_count": 69,
   "metadata": {},
   "outputs": [],
   "source": [
    "df_coffee = data.query(\"coupon == 'Coffee House'\")\n"
   ]
  },
  {
   "cell_type": "code",
   "execution_count": 212,
   "metadata": {},
   "outputs": [
    {
     "name": "stdout",
     "output_type": "stream",
     "text": [
      "1894 1922 3816\n",
      "The ratio of those who accepted = 49.63%\n"
     ]
    }
   ],
   "source": [
    "yesses = df_coffee['Y'].value_counts()[1]\n",
    "nos = df_coffee['Y'].value_counts()[0]\n",
    "total = df_coffee['Y'].count()\n",
    "\n",
    "print(yesses, nos, total)\n",
    "print(f\"The ratio of those who accepted = {round(100*(yesses/total),2)}%\")"
   ]
  },
  {
   "cell_type": "code",
   "execution_count": 71,
   "metadata": {},
   "outputs": [
    {
     "data": {
      "text/plain": [
       "<AxesSubplot:xlabel='CoffeeHouse', ylabel='Count'>"
      ]
     },
     "execution_count": 71,
     "metadata": {},
     "output_type": "execute_result"
    },
    {
     "data": {
      "image/png": "[encoded data removed]",
      "text/plain": [
       "<Figure size 432x288 with 1 Axes>"
      ]
     },
     "metadata": {
      "needs_background": "light"
     },
     "output_type": "display_data"
    }
   ],
   "source": [
    "sns.histplot(df_coffee, x=\"CoffeeHouse\", hue='Y', multiple=\"dodge\")"
   ]
  },
  {
   "cell_type": "code",
   "execution_count": 219,
   "metadata": {},
   "outputs": [
    {
     "name": "stdout",
     "output_type": "stream",
     "text": [
      "Those who frequented a Coffee House accepted coupons at a rate of: 49.63%\n",
      "Those who frequented a Coffee House less than once a month accepted coupons at a rate of: 34.03%\n",
      "Those who frequented a Coffee House one or more times per month accepted coupons at a rate of: 67.26%\n"
     ]
    }
   ],
   "source": [
    "criteria_less_frequent = ['less1', 'never']\n",
    "criteria_more_frequent = ['4~8', 'gt8']\n",
    "\n",
    "total_coffee_coupons = df_coffee['Y'].count()\n",
    "accepted_coffee_coupons = df_coffee['Y'].value_counts()[1]\n",
    "ratio_accepted_coupons = accepted_coffee_coupons / total_coffee_coupons\n",
    "msg_coffee_coupons = \"Those who frequented a Coffee House accepted coupons at a rate of: \"\n",
    "\n",
    "\n",
    "df_less_frequent = df_coffee.query(\"CoffeeHouse in @criteria_less_frequent\")\n",
    "df_more_frequent = df_coffee.query(\"CoffeeHouse in @criteria_more_frequent\")\n",
    "\n",
    "total_less_frequent = df_less_frequent['Y'].count()\n",
    "accepted_less_frequent = df_less_frequent['Y'].value_counts()[1]\n",
    "ratio_less_frequent = accepted_less_frequent / total_less_frequent\n",
    "msg_less_frequent = \"Those who frequented a Coffee House less than once a month accepted coupons at a rate of: \"\n",
    "\n",
    "\n",
    "total_more_frequent = df_more_frequent['Y'].count()\n",
    "accepted_more_frequent = df_more_frequent['Y'].value_counts()[1]\n",
    "ratio_more_frequent = accepted_more_frequent / total_more_frequent\n",
    "msg_more_frequent = \"Those who frequented a Coffee House one or more times per month accepted coupons at a rate of: \"\n",
    "\n",
    "print(f\"{msg_coffee_coupons}{round(100*ratio_accepted_coupons,2)}%\")\n",
    "print(f\"{msg_less_frequent}{round(100*ratio_less_frequent,2)}%\")\n",
    "print(f\"{msg_more_frequent}{round(100*ratio_more_frequent,2)}%\")\n",
    "\n"
   ]
  },
  {
   "cell_type": "markdown",
   "metadata": {},
   "source": [
    "## Initial Findings:\n",
    "\n",
    "It appears that half of those who received coupons to a coffee house accepted them\n",
    "However, about only 1/3 of the less frequent goers (less than once per month) accepted them.\n",
    "And approximately 2/3 of the more frequent goers (1+ per month) accepted the coupons."
   ]
  },
  {
   "cell_type": "markdown",
   "metadata": {},
   "source": [
    "## Effect of passenger type on acceptance"
   ]
  },
  {
   "cell_type": "code",
   "execution_count": 234,
   "metadata": {},
   "outputs": [
    {
     "data": {
      "image/png": "[encoded data removed]",
      "text/plain": [
       "<Figure size 432x288 with 1 Axes>"
      ]
     },
     "metadata": {
      "needs_background": "light"
     },
     "output_type": "display_data"
    }
   ],
   "source": [
    "ax = sns.histplot(df_coffee, x=\"passanger\", hue='Y', multiple=\"dodge\")"
   ]
  },
  {
   "cell_type": "code",
   "execution_count": 244,
   "metadata": {},
   "outputs": [
    {
     "name": "stdout",
     "output_type": "stream",
     "text": [
      "The acceptance ratio of those with non-child passanger is 59.14%\n"
     ]
    }
   ],
   "source": [
    "non_child_passanger = ['Friend(s)', 'Partner']\n",
    "accepted_non_child_passanger = df_coffee.query(\"passanger in @non_child_passanger\")['Y'].value_counts()[1]\n",
    "total_non_child_passanger = df_coffee.query(\"passanger in @non_child_passanger\")['Y'].count()\n",
    "ratio = accepted_non_child_passanger / total_non_child_passanger\n",
    "\n",
    "print(f\"The acceptance ratio of those with non-child passanger is {round(100*ratio, 2)}%\")"
   ]
  },
  {
   "cell_type": "markdown",
   "metadata": {},
   "source": [
    "It appears that those who have non-child passenger in the car are more likely to accept the coupon. but only at a rate of 59.14%.\n",
    "But if we focus on the more frequent coffee house goers, we get the following graph:"
   ]
  },
  {
   "cell_type": "code",
   "execution_count": 80,
   "metadata": {},
   "outputs": [
    {
     "data": {
      "text/plain": [
       "<AxesSubplot:xlabel='passanger', ylabel='Count'>"
      ]
     },
     "execution_count": 80,
     "metadata": {},
     "output_type": "execute_result"
    },
    {
     "data": {
      "image/png": "[encoded data removed]",
      "text/plain": [
       "<Figure size 432x288 with 1 Axes>"
      ]
     },
     "metadata": {
      "needs_background": "light"
     },
     "output_type": "display_data"
    }
   ],
   "source": [
    "sns.histplot(df_more_frequent, x=\"passanger\", hue='Y', multiple=\"dodge\")"
   ]
  },
  {
   "cell_type": "code",
   "execution_count": 249,
   "metadata": {},
   "outputs": [
    {
     "name": "stdout",
     "output_type": "stream",
     "text": [
      "The acceptance ratio of frequent Coffee House goers and with non-child passanger is 75.08%\n"
     ]
    }
   ],
   "source": [
    "accepted_non_child_passanger = df_more_frequent.query(\"passanger in @non_child_passanger\")['Y'].value_counts()[1]\n",
    "total_non_child_passanger = df_more_frequent.query(\"passanger in @non_child_passanger\")['Y'].count()\n",
    "ratio = accepted_non_child_passanger / total_non_child_passanger\n",
    "\n",
    "print(f\"The acceptance ratio of frequent Coffee House goers and with non-child passanger is {round(100*ratio, 2)}%\")"
   ]
  },
  {
   "cell_type": "markdown",
   "metadata": {},
   "source": [
    "So, it appears that the \"passenger\" criteria is not very relevant in the population of more frequented the coffee house goers."
   ]
  },
  {
   "cell_type": "code",
   "execution_count": 83,
   "metadata": {},
   "outputs": [
    {
     "data": {
      "text/plain": [
       "<AxesSubplot:xlabel='passanger', ylabel='Count'>"
      ]
     },
     "execution_count": 83,
     "metadata": {},
     "output_type": "execute_result"
    },
    {
     "data": {
      "image/png": "[encoded data removed]",
      "text/plain": [
       "<Figure size 432x288 with 1 Axes>"
      ]
     },
     "metadata": {
      "needs_background": "light"
     },
     "output_type": "display_data"
    }
   ],
   "source": [
    "sns.histplot(df_less_frequent, x=\"passanger\", hue='Y', multiple=\"dodge\")"
   ]
  },
  {
   "cell_type": "markdown",
   "metadata": {},
   "source": [
    "The same is apparent (in the opposite direction) for those who rarely frequent a coffee house"
   ]
  },
  {
   "cell_type": "markdown",
   "metadata": {},
   "source": [
    "## Effect of Weather on Acceptance"
   ]
  },
  {
   "cell_type": "code",
   "execution_count": 87,
   "metadata": {},
   "outputs": [
    {
     "data": {
      "text/plain": [
       "<AxesSubplot:xlabel='weather', ylabel='Count'>"
      ]
     },
     "execution_count": 87,
     "metadata": {},
     "output_type": "execute_result"
    },
    {
     "data": {
      "image/png": "[encoded data removed]",
      "text/plain": [
       "<Figure size 432x288 with 1 Axes>"
      ]
     },
     "metadata": {
      "needs_background": "light"
     },
     "output_type": "display_data"
    }
   ],
   "source": [
    "sns.histplot(df_coffee, x=\"weather\", hue='Y', multiple=\"dodge\")"
   ]
  },
  {
   "cell_type": "markdown",
   "metadata": {},
   "source": [
    "It appears that weather has no effect on the general population (split ~50/50)"
   ]
  },
  {
   "cell_type": "code",
   "execution_count": 90,
   "metadata": {},
   "outputs": [
    {
     "data": {
      "text/plain": [
       "<AxesSubplot:xlabel='weather', ylabel='Count'>"
      ]
     },
     "execution_count": 90,
     "metadata": {},
     "output_type": "execute_result"
    },
    {
     "data": {
      "image/png": "[encoded data removed]",
      "text/plain": [
       "<Figure size 432x288 with 1 Axes>"
      ]
     },
     "metadata": {
      "needs_background": "light"
     },
     "output_type": "display_data"
    }
   ],
   "source": [
    "sns.histplot(df_more_frequent, x=\"weather\", hue='Y', multiple=\"dodge\")"
   ]
  },
  {
   "cell_type": "markdown",
   "metadata": {},
   "source": [
    "However, it appears that if solely focus on those who more often frequent a coffee house, the weather is very relevant, and the the acceptance rate drops significantly with rainy and snowy weather"
   ]
  },
  {
   "cell_type": "code",
   "execution_count": 93,
   "metadata": {},
   "outputs": [
    {
     "name": "stdout",
     "output_type": "stream",
     "text": [
      "Those who often frequents a Coffee House accept the coupons at a rate of: \n",
      "  * 55.00% when the weather is bad\n",
      "  * 69.0% when the weather is good\n"
     ]
    }
   ],
   "source": [
    "criteria_bad_weather = ['Rainy', 'Snowy']\n",
    "\n",
    "df_bad_weather = df_more_frequent.query(\"weather in @criteria_bad_weather\")\n",
    "df_good_weather = df_more_frequent.query(\"weather not in @criteria_bad_weather\")\n",
    "\n",
    "total_bad_weather = df_bad_weather['Y'].count()\n",
    "accepted_bad_weather = df_bad_weather['Y'].value_counts()[1]\n",
    "ratio_bad_weather = accepted_bad_weather / total_bad_weather\n",
    "\n",
    "total_gd_weather = df_good_weather['Y'].count()\n",
    "accepted_gd_weather = df_good_weather['Y'].value_counts()[1]\n",
    "ratio_gd_weather = accepted_gd_weather / total_gd_weather\n",
    "\n",
    "print(\"Those who often frequents a Coffee House accept the coupons at a rate of: \")\n",
    "print(f\"  * {str(100*round(ratio_bad_weather,2))[:5]}% when the weather is bad\")\n",
    "print(f\"  * {str(100*round(ratio_gd_weather,2))[:5]}% when the weather is good\")"
   ]
  },
  {
   "cell_type": "markdown",
   "metadata": {},
   "source": [
    "## By Expiration"
   ]
  },
  {
   "cell_type": "code",
   "execution_count": 96,
   "metadata": {},
   "outputs": [
    {
     "data": {
      "text/plain": [
       "<AxesSubplot:xlabel='expiration', ylabel='Count'>"
      ]
     },
     "execution_count": 96,
     "metadata": {},
     "output_type": "execute_result"
    },
    {
     "data": {
      "image/png": "[encoded data removed]",
      "text/plain": [
       "<Figure size 432x288 with 1 Axes>"
      ]
     },
     "metadata": {
      "needs_background": "light"
     },
     "output_type": "display_data"
    }
   ],
   "source": [
    "sns.histplot(df_coffee, x=\"expiration\", hue='Y', multiple=\"dodge\")"
   ]
  },
  {
   "cell_type": "markdown",
   "metadata": {},
   "source": [
    "It appears that, for the general population of those who received coffee coupons, the coupons that expired in 1d were more likely to be accepted than those that expired in 2h."
   ]
  },
  {
   "cell_type": "code",
   "execution_count": 100,
   "metadata": {},
   "outputs": [
    {
     "data": {
      "text/plain": [
       "<AxesSubplot:xlabel='expiration', ylabel='Count'>"
      ]
     },
     "execution_count": 100,
     "metadata": {},
     "output_type": "execute_result"
    },
    {
     "data": {
      "image/png": "[encoded data removed]",
      "text/plain": [
       "<Figure size 432x288 with 1 Axes>"
      ]
     },
     "metadata": {
      "needs_background": "light"
     },
     "output_type": "display_data"
    }
   ],
   "source": [
    "sns.histplot(df_less_frequent, x=\"expiration\", hue='Y', multiple=\"dodge\")"
   ]
  },
  {
   "cell_type": "markdown",
   "metadata": {},
   "source": [
    "However, those who less frequently went to Coffee houses, were overall less likely to accept a coupon regardless of whether the coupon expired in 2 hours or 1 day."
   ]
  },
  {
   "cell_type": "code",
   "execution_count": 102,
   "metadata": {},
   "outputs": [
    {
     "data": {
      "text/plain": [
       "<AxesSubplot:xlabel='expiration', ylabel='Count'>"
      ]
     },
     "execution_count": 102,
     "metadata": {},
     "output_type": "execute_result"
    },
    {
     "data": {
      "image/png": "[encoded data removed]",
      "text/plain": [
       "<Figure size 432x288 with 1 Axes>"
      ]
     },
     "metadata": {
      "needs_background": "light"
     },
     "output_type": "display_data"
    }
   ],
   "source": [
    "sns.histplot(df_more_frequent, x=\"expiration\", hue='Y', multiple=\"dodge\")"
   ]
  },
  {
   "cell_type": "markdown",
   "metadata": {},
   "source": [
    "For those who more frequently went to a coffee house, were still more likely to accept a coupon, in general but with a much higher probability if the coupon expired in 1 day."
   ]
  },
  {
   "cell_type": "code",
   "execution_count": null,
   "metadata": {},
   "outputs": [],
   "source": []
  }
 ],
 "metadata": {
  "kernelspec": {
   "display_name": "anaconda-2022.05-py39",
   "language": "python",
   "name": "conda-env-anaconda-2022.05-py39-py"
  },
  "language_info": {
   "codemirror_mode": {
    "name": "ipython",
    "version": 3
   },
   "file_extension": ".py",
   "mimetype": "text/x-python",
   "name": "python",
   "nbconvert_exporter": "python",
   "pygments_lexer": "ipython3",
   "version": "3.9.12"
  },
  "widgets": {
   "application/vnd.jupyter.widget-state+json": {
    "state": {},
    "version_major": 2,
    "version_minor": 0
   }
  }
 },
 "nbformat": 4,
 "nbformat_minor": 4
}
